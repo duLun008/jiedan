{
 "cells": [
  {
   "cell_type": "code",
   "execution_count": 1,
   "id": "3eeedaf4",
   "metadata": {},
   "outputs": [],
   "source": [
    "import pandas as pd\n",
    "import jieba\n",
    "from wordcloud import WordCloud\n",
    "\n",
    "jiehuan = {}\n",
    "reader = pd.read_excel('data/读者信息.xlsx')\n",
    "content = pd.read_excel('data/图书目录.xlsx')\n",
    "for year in ['2014', '2015', '2016', '2017']:\n",
    "    filename = 'data/图书借还{}.xlsx'.format(year)\n",
    "    jiehuan[year] = pd.read_excel(filename)\n",
    "\n",
    "all_df = pd.DataFrame()\n",
    "for year in jiehuan:\n",
    "    borrow_df = jiehuan[year]\n",
    "\n",
    "    merge_df = pd.merge(borrow_df, content, on='图书ID')\n",
    "    merge_df = pd.merge(merge_df, reader, on='读者ID')\n",
    "\n",
    "    all_df = pd.concat([all_df, merge_df], ignore_index=True)\n",
    "a = set(all_df['单位'])"
   ]
  },
  {
   "cell_type": "code",
   "execution_count": 3,
   "id": "be2b6f2e",
   "metadata": {},
   "outputs": [
    {
     "name": "stdout",
     "output_type": "stream",
     "text": [
      "['经2013-1', '经2016-1', '经2017-1', '经2014-1', '经2015-1', '经济管理学院']\n"
     ]
    }
   ],
   "source": [
    "# 使用列表推导式进行筛选\n",
    "filtered_data = [item for item in a if str(item).startswith('经')]\n",
    "\n",
    "# 输出筛选结果\n",
    "print(filtered_data)"
   ]
  }
 ],
 "metadata": {
  "kernelspec": {
   "display_name": "Python 3 (ipykernel)",
   "language": "python",
   "name": "python3"
  },
  "language_info": {
   "codemirror_mode": {
    "name": "ipython",
    "version": 3
   },
   "file_extension": ".py",
   "mimetype": "text/x-python",
   "name": "python",
   "nbconvert_exporter": "python",
   "pygments_lexer": "ipython3",
   "version": "3.10.9"
  }
 },
 "nbformat": 4,
 "nbformat_minor": 5
}
