{
 "cells": [
  {
   "cell_type": "code",
   "execution_count": 3,
   "id": "a20ea7d2",
   "metadata": {},
   "outputs": [
    {
     "name": "stdout",
     "output_type": "stream",
     "text": [
      "**************查看前几行数据**********************\n",
      "                 操作时间 操作类型      图书ID          读者ID\n",
      "0 2017-01-01 07:35:34    还  B0451294  1606AC140313\n",
      "1 2017-01-01 07:35:44    还  B0158316  1606AC140313\n",
      "2 2017-01-01 07:35:56    还  B0445510  1606AC140313\n",
      "3 2017-01-01 07:36:11    还  B0462168  1606AC140313\n",
      "4 2017-01-01 07:36:26    还  B0462170  1606AC140313\n",
      "***************查看表格信息*********************\n",
      "<class 'pandas.core.frame.DataFrame'>\n",
      "RangeIndex: 221620 entries, 0 to 221619\n",
      "Data columns (total 4 columns):\n",
      " #   Column  Non-Null Count   Dtype         \n",
      "---  ------  --------------   -----         \n",
      " 0   操作时间    221620 non-null  datetime64[ns]\n",
      " 1   操作类型    221620 non-null  object        \n",
      " 2   图书ID    221620 non-null  object        \n",
      " 3   读者ID    221620 non-null  object        \n",
      "dtypes: datetime64[ns](1), object(3)\n",
      "memory usage: 6.8+ MB\n",
      "None\n",
      "**************查看统计摘要**********************\n",
      "                                操作时间\n",
      "count                         221620\n",
      "mean   2017-07-02 00:03:30.966131200\n",
      "min              2017-01-01 07:35:34\n",
      "25%       2017-04-07 11:48:24.500000\n",
      "50%              2017-06-18 17:18:51\n",
      "75%    2017-09-30 10:30:09.750000128\n",
      "max              2017-12-31 21:51:30\n"
     ]
    }
   ],
   "source": [
    "import pandas as pd\n",
    "\n",
    "# 读取Excel文件\n",
    "file_path = 'data/图书借还2017.xlsx'\n",
    "df = pd.read_excel(file_path)\n",
    "\n",
    "print('**************查看前几行数据**********************')\n",
    "# 查看前几行数据\n",
    "print(df.head())\n",
    "\n",
    "print('***************查看表格信息*********************')\n",
    "# 查看表格信息\n",
    "print(df.info())\n",
    "\n",
    "print('**************查看统计摘要**********************')\n",
    "# 查看统计摘要\n",
    "print(df.describe(datetime_is_numeric=True))"
   ]
  },
  {
   "cell_type": "code",
   "execution_count": 5,
   "id": "cb7075ee",
   "metadata": {},
   "outputs": [
    {
     "name": "stdout",
     "output_type": "stream",
     "text": [
      "数据量: 2017:  (221620, 4) 2016:  267617  2015 : 254562  2014:  247199\n"
     ]
    }
   ],
   "source": [
    "df2 = pd.read_excel('data/图书借还2016.xlsx')\n",
    "df3 = pd.read_excel('data/图书借还2015.xlsx')\n",
    "df4 = pd.read_excel('data/图书借还2014.xlsx')"
   ]
  },
  {
   "cell_type": "code",
   "execution_count": 7,
   "id": "a21f89cf",
   "metadata": {},
   "outputs": [
    {
     "name": "stdout",
     "output_type": "stream",
     "text": [
      "数据量: 2017:  221620 2016:  267617  2015 : 254562  2014:  247199\n",
      "总数据量： 990998\n"
     ]
    }
   ],
   "source": [
    "print(\"数据量: 2017: \", df.shape[0], \"2016: \", df2.shape[0], \" 2015 :\", df3.shape[0], \" 2014: \", df4.shape[0])\n",
    "print(\"总数据量：\", df.shape[0]+df2.shape[0]+df3.shape[0]+df4.shape[0])"
   ]
  },
  {
   "cell_type": "code",
   "execution_count": 8,
   "id": "c148ff17",
   "metadata": {},
   "outputs": [
    {
     "name": "stdout",
     "output_type": "stream",
     "text": [
      "**************查看图书目录前几行数据**********************\n",
      "       图书ID            书名            图书分类号\n",
      "0  B0000001          大庆指南  F279.273.5-62/1\n",
      "1  B0000002  寒夜三部曲.第一部,寒夜         I247.5/1\n",
      "2  B0000003           沧桑路       I247.5/184\n",
      "3  B0000004             寻         I247.5/4\n",
      "4  B0000005         曾经深爱过         I247.5/5\n",
      "***************查看图书目录表格信息*********************\n",
      "<class 'pandas.core.frame.DataFrame'>\n",
      "RangeIndex: 400966 entries, 0 to 400965\n",
      "Data columns (total 3 columns):\n",
      " #   Column  Non-Null Count   Dtype \n",
      "---  ------  --------------   ----- \n",
      " 0   图书ID    400966 non-null  object\n",
      " 1   书名      400716 non-null  object\n",
      " 2   图书分类号   393279 non-null  object\n",
      "dtypes: object(3)\n",
      "memory usage: 9.2+ MB\n",
      "None\n",
      "**************查看图书目录统计摘要**********************\n",
      "            图书ID      书名   图书分类号\n",
      "count     400966  400716  393279\n",
      "unique    400966  306210  339650\n",
      "top     B0000001    材料力学  Z227/2\n",
      "freq           1     200      87\n"
     ]
    }
   ],
   "source": [
    "content_df = pd.read_excel('data\\图书目录.xlsx')\n",
    "\n",
    "print('**************查看图书目录前几行数据**********************')\n",
    "# 查看前几行数据\n",
    "print(content_df.head())\n",
    "\n",
    "print('***************查看图书目录表格信息*********************')\n",
    "# 查看表格信息\n",
    "print(content_df.info())\n",
    "\n",
    "print('**************查看图书目录统计摘要**********************')\n",
    "# 查看统计摘要\n",
    "print(content_df.describe(datetime_is_numeric=True))"
   ]
  },
  {
   "cell_type": "code",
   "execution_count": 9,
   "id": "66743522",
   "metadata": {},
   "outputs": [
    {
     "name": "stdout",
     "output_type": "stream",
     "text": [
      "**************查看读者信息前几行数据**********************\n",
      "           读者ID 读者类型 性别        单位   \n",
      "0  1103AE140220  本科生  男  能源2011-2   \n",
      "1  1103AE140229  本科生  男  能源2011-2   \n",
      "2  1106AE140105  本科生  女  电气2011-1   \n",
      "3  1106AE140204  本科生  女  电气2011-2   \n",
      "4  1107AD140227  本科生  男   计2011-2   \n",
      "***************查看读者信息表格信息*********************\n",
      "<class 'pandas.core.frame.DataFrame'>\n",
      "RangeIndex: 15674 entries, 0 to 15673\n",
      "Data columns (total 5 columns):\n",
      " #   Column  Non-Null Count  Dtype \n",
      "---  ------  --------------  ----- \n",
      " 0   读者ID    15673 non-null  object\n",
      " 1   读者类型    15673 non-null  object\n",
      " 2   性别      15672 non-null  object\n",
      " 3   单位      15670 non-null  object\n",
      " 4           15674 non-null  object\n",
      "dtypes: object(5)\n",
      "memory usage: 612.4+ KB\n",
      "None\n",
      "**************查看读者信息统计摘要**********************\n",
      "                读者ID   读者类型     性别      单位       \n",
      "count          15673  15673  15672   15670  15674\n",
      "unique         15575      8      2     914      1\n",
      "top     1301AD140123    本科生      男  2017博士       \n",
      "freq               2  12808  12969      73  15674\n"
     ]
    }
   ],
   "source": [
    "reader_df = pd.read_excel('data\\读者信息.xlsx')\n",
    "\n",
    "print('**************查看读者信息前几行数据**********************')\n",
    "# 查看前几行数据\n",
    "print(reader_df.head())\n",
    "\n",
    "print('***************查看读者信息表格信息*********************')\n",
    "# 查看表格信息\n",
    "print(reader_df.info())\n",
    "\n",
    "print('**************查看读者信息统计摘要**********************')\n",
    "# 查看统计摘要\n",
    "print(reader_df.describe(datetime_is_numeric=True))"
   ]
  },
  {
   "cell_type": "code",
   "execution_count": 10,
   "id": "1508c0cd",
   "metadata": {},
   "outputs": [],
   "source": [
    "book_ID_set = set()\n",
    "reader_ID_set = set()"
   ]
  },
  {
   "cell_type": "code",
   "execution_count": 17,
   "id": "43aa50c4",
   "metadata": {},
   "outputs": [
    {
     "name": "stdout",
     "output_type": "stream",
     "text": [
      "221620 221620\n",
      "267617 267617\n",
      "254562 254562\n",
      "247199 247199\n"
     ]
    }
   ],
   "source": [
    "print(len(df['图书ID'].isin(content_df['图书ID'])), len(df))\n",
    "print(len(df2['图书ID'].isin(content_df['图书ID'])), len(df2))\n",
    "print(len(df3['图书ID'].isin(content_df['图书ID'])), len(df3))\n",
    "print(len(df4['图书ID'].isin(content_df['图书ID'])), len(df4))"
   ]
  },
  {
   "cell_type": "code",
   "execution_count": 18,
   "id": "75564bdc",
   "metadata": {},
   "outputs": [
    {
     "name": "stdout",
     "output_type": "stream",
     "text": [
      "221620 221620\n",
      "267617 267617\n",
      "254562 254562\n",
      "247199 247199\n"
     ]
    }
   ],
   "source": [
    "print(len(df['读者ID'].isin(reader_df['读者ID'])), len(df))\n",
    "print(len(df2['读者ID'].isin(reader_df['读者ID'])), len(df2))\n",
    "print(len(df3['读者ID'].isin(reader_df['读者ID'])), len(df3))\n",
    "print(len(df4['读者ID'].isin(reader_df['读者ID'])), len(df4))"
   ]
  },
  {
   "cell_type": "code",
   "execution_count": 25,
   "id": "0d97d047",
   "metadata": {},
   "outputs": [
    {
     "name": "stdout",
     "output_type": "stream",
     "text": [
      "去除的重复数据项：\n",
      "Empty DataFrame\n",
      "Columns: [操作时间, 操作类型, 图书ID, 读者ID]\n",
      "Index: []\n",
      "去除的空行数据项：\n",
      "Empty DataFrame\n",
      "Columns: [操作时间, 操作类型, 图书ID, 读者ID]\n",
      "Index: []\n"
     ]
    }
   ],
   "source": [
    "df_processed = df.copy()\n",
    "\n",
    "# 去重\n",
    "df_processed.drop_duplicates(inplace=True)\n",
    "\n",
    "# 去空\n",
    "df_processed.dropna(inplace=True)\n",
    "\n",
    "# 获取去除的重复数据项\n",
    "removed_duplicates = df[~df.index.isin(df_processed.index)]\n",
    "\n",
    "# 获取去除的空行数据项\n",
    "removed_empty_rows = df[~df.index.isin(df_processed.index)]\n",
    "\n",
    "# 打印去除的数据\n",
    "print(\"去除的重复数据项：\")\n",
    "print(removed_duplicates)\n",
    "\n",
    "print(\"去除的空行数据项：\")\n",
    "print(removed_empty_rows)"
   ]
  },
  {
   "cell_type": "code",
   "execution_count": 28,
   "id": "82a55b37",
   "metadata": {},
   "outputs": [
    {
     "data": {
      "text/html": [
       "<div>\n",
       "<style scoped>\n",
       "    .dataframe tbody tr th:only-of-type {\n",
       "        vertical-align: middle;\n",
       "    }\n",
       "\n",
       "    .dataframe tbody tr th {\n",
       "        vertical-align: top;\n",
       "    }\n",
       "\n",
       "    .dataframe thead th {\n",
       "        text-align: right;\n",
       "    }\n",
       "</style>\n",
       "<table border=\"1\" class=\"dataframe\">\n",
       "  <thead>\n",
       "    <tr style=\"text-align: right;\">\n",
       "      <th></th>\n",
       "      <th>读者ID</th>\n",
       "      <th>读者类型</th>\n",
       "      <th>性别</th>\n",
       "      <th>单位</th>\n",
       "      <th></th>\n",
       "    </tr>\n",
       "  </thead>\n",
       "  <tbody>\n",
       "    <tr>\n",
       "      <th>12910</th>\n",
       "      <td>0119IF051401</td>\n",
       "      <td>教师</td>\n",
       "      <td>男</td>\n",
       "      <td>化学化工学院</td>\n",
       "      <td></td>\n",
       "    </tr>\n",
       "    <tr>\n",
       "      <th>12911</th>\n",
       "      <td>0219DJ102756</td>\n",
       "      <td>教师</td>\n",
       "      <td>男</td>\n",
       "      <td>离退处</td>\n",
       "      <td></td>\n",
       "    </tr>\n",
       "    <tr>\n",
       "      <th>12912</th>\n",
       "      <td>0219ID010027</td>\n",
       "      <td>教师</td>\n",
       "      <td>女</td>\n",
       "      <td>数学科学与技术学院</td>\n",
       "      <td></td>\n",
       "    </tr>\n",
       "    <tr>\n",
       "      <th>12913</th>\n",
       "      <td>0319FK020099</td>\n",
       "      <td>教师</td>\n",
       "      <td>女</td>\n",
       "      <td>电子科学学院</td>\n",
       "      <td></td>\n",
       "    </tr>\n",
       "    <tr>\n",
       "      <th>12914</th>\n",
       "      <td>0319GC020074</td>\n",
       "      <td>教师</td>\n",
       "      <td>女</td>\n",
       "      <td>地球科学学院</td>\n",
       "      <td></td>\n",
       "    </tr>\n",
       "    <tr>\n",
       "      <th>...</th>\n",
       "      <td>...</td>\n",
       "      <td>...</td>\n",
       "      <td>...</td>\n",
       "      <td>...</td>\n",
       "      <td>...</td>\n",
       "    </tr>\n",
       "    <tr>\n",
       "      <th>13324</th>\n",
       "      <td>8888IJ888004</td>\n",
       "      <td>教师</td>\n",
       "      <td>男</td>\n",
       "      <td>计划财务处</td>\n",
       "      <td></td>\n",
       "    </tr>\n",
       "    <tr>\n",
       "      <th>13325</th>\n",
       "      <td>8888IJ888808</td>\n",
       "      <td>教师</td>\n",
       "      <td>男</td>\n",
       "      <td>计划财务处</td>\n",
       "      <td></td>\n",
       "    </tr>\n",
       "    <tr>\n",
       "      <th>13326</th>\n",
       "      <td>JWC0AB000006</td>\n",
       "      <td>教师</td>\n",
       "      <td>男</td>\n",
       "      <td>教务处</td>\n",
       "      <td></td>\n",
       "    </tr>\n",
       "    <tr>\n",
       "      <th>13327</th>\n",
       "      <td>JXJYAB000005</td>\n",
       "      <td>教师</td>\n",
       "      <td>女</td>\n",
       "      <td>继续教育学院</td>\n",
       "      <td></td>\n",
       "    </tr>\n",
       "    <tr>\n",
       "      <th>13328</th>\n",
       "      <td>Z620AC82</td>\n",
       "      <td>教师</td>\n",
       "      <td>男</td>\n",
       "      <td>计算机与信息技术学院</td>\n",
       "      <td></td>\n",
       "    </tr>\n",
       "  </tbody>\n",
       "</table>\n",
       "<p>419 rows × 5 columns</p>\n",
       "</div>"
      ],
      "text/plain": [
       "               读者ID 读者类型 性别          单位   \n",
       "12910  0119IF051401   教师  男      化学化工学院   \n",
       "12911  0219DJ102756   教师  男         离退处   \n",
       "12912  0219ID010027   教师  女   数学科学与技术学院   \n",
       "12913  0319FK020099   教师  女      电子科学学院   \n",
       "12914  0319GC020074   教师  女      地球科学学院   \n",
       "...             ...  ... ..         ... ..\n",
       "13324  8888IJ888004   教师  男       计划财务处   \n",
       "13325  8888IJ888808   教师  男       计划财务处   \n",
       "13326  JWC0AB000006   教师  男         教务处   \n",
       "13327  JXJYAB000005   教师  女      继续教育学院   \n",
       "13328      Z620AC82   教师  男  计算机与信息技术学院   \n",
       "\n",
       "[419 rows x 5 columns]"
      ]
     },
     "execution_count": 28,
     "metadata": {},
     "output_type": "execute_result"
    }
   ],
   "source": [
    "reader_df[reader_df['读者类型']=='教师']"
   ]
  },
  {
   "cell_type": "code",
   "execution_count": 29,
   "id": "5c16ab16",
   "metadata": {},
   "outputs": [
    {
     "data": {
      "text/plain": [
       "{'借', '还'}"
      ]
     },
     "execution_count": 29,
     "metadata": {},
     "output_type": "execute_result"
    }
   ],
   "source": [
    "df[df['操作类型']=='']"
   ]
  }
 ],
 "metadata": {
  "kernelspec": {
   "display_name": "Python 3 (ipykernel)",
   "language": "python",
   "name": "python3"
  },
  "language_info": {
   "codemirror_mode": {
    "name": "ipython",
    "version": 3
   },
   "file_extension": ".py",
   "mimetype": "text/x-python",
   "name": "python",
   "nbconvert_exporter": "python",
   "pygments_lexer": "ipython3",
   "version": "3.10.9"
  }
 },
 "nbformat": 4,
 "nbformat_minor": 5
}
